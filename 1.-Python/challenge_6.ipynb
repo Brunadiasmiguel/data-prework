{
 "cells": [
  {
   "cell_type": "code",
   "execution_count": 3,
   "metadata": {
    "scrolled": true
   },
   "outputs": [
    {
     "name": "stdout",
     "output_type": "stream",
     "text": [
      "2\n",
      "please choose rock, paper or scissor\n",
      "dsy\n",
      "wrong input. please type again\n",
      "paper\n",
      "the person chose paper\n",
      "the computer chose randomly scissor\n",
      "Note: if the computer wins, 1 is displayed, if the person wins, 2 is displayed and if it is a tie, 0 will be displyed\n"
     ]
    },
    {
     "data": {
      "text/plain": [
       "1"
      ]
     },
     "execution_count": 3,
     "metadata": {},
     "output_type": "execute_result"
    }
   ],
   "source": [
    "#1\n",
    "\n",
    "from random import choice\n",
    "\n",
    "\n",
    "#2\n",
    "\n",
    "gestures=[\"rock\",\"paper\",\"scissor\"]\n",
    "\n",
    "#3 not sure about the question\n",
    "\n",
    "n_rounds=3\n",
    "\n",
    "#if (n_rounds % 2) != 0:\n",
    "# print(\"valid number. round numbers:\", n_rounds)\n",
    "# else:\n",
    "# print(\"invalid number. type again\")    \n",
    "    \n",
    "#4\n",
    "\n",
    "rounds_to_win=round(n_rounds/2)\n",
    "print(rounds_to_win)\n",
    "\n",
    "#5\n",
    "\n",
    "cpu_score=0\n",
    "player_score=0\n",
    "\n",
    "#6\n",
    "\n",
    "computer_choice=choice(gestures)     #print comes later for game logic purposes\n",
    "\n",
    "\n",
    "#7\n",
    "\n",
    "def people_choice():\n",
    "    print(\"please choose rock, paper or scissor\")\n",
    "    gestures=[\"rock\",\"paper\",\"scissor\"]\n",
    "    \n",
    "    choose_type=\"\"\n",
    "    \n",
    "    while choose_type not in gestures:\n",
    "        choose_type=input()\n",
    "        if choose_type in gestures:\n",
    "            print(\"the person chose\", choose_type)\n",
    "        else:\n",
    "            print(\"wrong input. please type again\")\n",
    "    return choose_type\n",
    "\n",
    "pchoice=people_choice()\n",
    "\n",
    "print(\"the computer chose randomly\",computer_choice)\n",
    "\n",
    "#8\n",
    "\n",
    "def who_wins(p,c):\n",
    "\n",
    "    if (p==\"scissor\" and c==\"rock\") or (p==\"paper\" and c==\"scissor\") or (p==\"rock\" and c==\"paper\"):\n",
    "        return 1\n",
    "    elif (p==\"rock\" and c==\"scissor\") or (p==\"scissor\" and c==\"paper\") or (p==\"paper\" and c==\"rock\"):\n",
    "        return 2\n",
    "    else:\n",
    "        return 0\n",
    "\n",
    "print(\"Note: if the computer wins, 1 is displayed, if the person wins, 2 is displayed and if it is a tie, 0 will be displyed\")\n",
    "who_wins(pchoice,computer_choice)\n",
    "    \n",
    "    \n",
    "#9 etc can´t define it without 3\n",
    "\n",
    "\n"
   ]
  },
  {
   "cell_type": "code",
   "execution_count": null,
   "metadata": {},
   "outputs": [],
   "source": []
  },
  {
   "cell_type": "code",
   "execution_count": null,
   "metadata": {},
   "outputs": [],
   "source": []
  }
 ],
 "metadata": {
  "kernelspec": {
   "display_name": "Python 3",
   "language": "python",
   "name": "python3"
  },
  "language_info": {
   "codemirror_mode": {
    "name": "ipython",
    "version": 3
   },
   "file_extension": ".py",
   "mimetype": "text/x-python",
   "name": "python",
   "nbconvert_exporter": "python",
   "pygments_lexer": "ipython3",
   "version": "3.7.6"
  }
 },
 "nbformat": 4,
 "nbformat_minor": 4
}
