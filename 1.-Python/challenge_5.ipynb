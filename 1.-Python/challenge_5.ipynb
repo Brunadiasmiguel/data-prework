{
 "cells": [
  {
   "cell_type": "code",
   "execution_count": 3,
   "metadata": {},
   "outputs": [
    {
     "name": "stdout",
     "output_type": "stream",
     "text": [
      "Minimum temperature is 0 degrees\n",
      "Maximum temperature is 90 degrees\n",
      "[70, 76, 80, 81, 80, 83, 90, 79]\n",
      "Average temperature is 60.25 degrees\n",
      "My estimation is the average, 60.25\n",
      "[33, 66, 65, 60, 59, 60, 62, 64, 70, 76, 80, 81, 80, 83, 90, 79, 61, 53, 50, 49, 53, 48, 45, 39]\n",
      "[91, 150, 149, 32, 138, 140, 143, 147, 158, 168, 176, 177, 176, 181, 194, 174, 141, 127, 122, 120, 127, 118, 113, 102]\n",
      "Cooling system needs to be changed\n"
     ]
    }
   ],
   "source": [
    "temperatures_C = [33, 66, 65, 0, 59, 60, 62, 64, 70, 76, 80, 81, 80, 83, 90, 79, 61, 53, 50, 49, 53, 48, 45, 39]\n",
    "\n",
    "#1\n",
    "\n",
    "min_temp=min(temperatures_C)\n",
    "print(\"Minimum temperature is\",min_temp, \"degrees\")\n",
    "\n",
    "#2\n",
    "\n",
    "max_temp=max(temperatures_C)\n",
    "print(\"Maximum temperature is\",max_temp, \"degrees\")\n",
    "\n",
    "#3\n",
    "\n",
    "listtemp70=[]                   #personal note:check list comprehension possibility \n",
    "\n",
    "for temp in temperatures_C:\n",
    "    if temp>=70:\n",
    "        listtemp70.append(temp)\n",
    "\n",
    "print(listtemp70)\n",
    "\n",
    "#4\n",
    "\n",
    "average=sum(temperatures_C)/len(temperatures_C)\n",
    "print(\"Average temperature is\",average, \"degrees\")\n",
    "\n",
    "#5\n",
    "\n",
    "estimation=average\n",
    "print(\"My estimation is the average,\",estimation)\n",
    "\n",
    "temperatures_C[3]=int(estimation)\n",
    "print(temperatures_C)\n",
    "\n",
    "#6 bonus\n",
    "\n",
    "temperatures_C = [33, 66, 65, 0, 59, 60, 62, 64, 70, 76, 80, 81, 80, 83, 90, 79, 61, 53, 50, 49, 53, 48, 45, 39]\n",
    "total_temp_F=[]\n",
    "\n",
    "for temp in temperatures_C:\n",
    "    total_temp_F.append(int((1.8*temp) + 32)) #personal note: check list comprehension possibility\n",
    "\n",
    "print(total_temp_F)\n",
    "\n",
    "#7\n",
    "\n",
    "if len(listtemp70) > 4:             #personal note: maybe an \"or\" makes sense \n",
    "    print(\"Cooling system needs to be changed\")\n",
    "elif (temperatures_C > 80):\n",
    "    print(\"Cooling system needs to be changed\")\n",
    "elif average > 65:\n",
    "    print(\"Cooling system needs to be changed\")\n",
    "else:\n",
    "    print(\"Cooling system doesn´t need to be changed\")"
   ]
  },
  {
   "cell_type": "code",
   "execution_count": 53,
   "metadata": {},
   "outputs": [
    {
     "name": "stdout",
     "output_type": "stream",
     "text": [
      "[8, 9, 10, 11, 10, 13, 14, 15]\n"
     ]
    }
   ],
   "source": [
    "#Bonus would like to have some hint\n",
    "\n",
    "#1 not 100% correct\n",
    "\n",
    "temperatures_C = [33, 66, 65, 0, 59, 60, 62, 64, 70, 76, 80, 81, 80, 83, 90, 79, 61, 53, 50, 49, 53, 48, 45, 39]\n",
    "\n",
    "new_list=[]\n",
    "hours=0\n",
    "\n",
    "for temp in temperatures_C:\n",
    "    if temp>=70:\n",
    "        hours=temperatures_C.index(temp)\n",
    "        new_list.append(hours)\n",
    "\n",
    "print(new_list)\n",
    "\n",
    "\n",
    "    \n",
    "\n",
    "        \n"
   ]
  },
  {
   "cell_type": "code",
   "execution_count": null,
   "metadata": {},
   "outputs": [],
   "source": []
  },
  {
   "cell_type": "code",
   "execution_count": null,
   "metadata": {},
   "outputs": [],
   "source": []
  }
 ],
 "metadata": {
  "kernelspec": {
   "display_name": "Python 3",
   "language": "python",
   "name": "python3"
  },
  "language_info": {
   "codemirror_mode": {
    "name": "ipython",
    "version": 3
   },
   "file_extension": ".py",
   "mimetype": "text/x-python",
   "name": "python",
   "nbconvert_exporter": "python",
   "pygments_lexer": "ipython3",
   "version": "3.7.6"
  }
 },
 "nbformat": 4,
 "nbformat_minor": 4
}
